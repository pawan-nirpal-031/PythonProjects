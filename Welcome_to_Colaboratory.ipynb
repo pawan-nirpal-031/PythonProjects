{
  "nbformat": 4,
  "nbformat_minor": 0,
  "metadata": {
    "colab": {
      "name": "Welcome to Colaboratory",
      "provenance": [],
      "collapsed_sections": [],
      "include_colab_link": true
    },
    "kernelspec": {
      "display_name": "Python 3",
      "name": "python3"
    }
  },
  "cells": [
    {
      "cell_type": "markdown",
      "metadata": {
        "id": "view-in-github",
        "colab_type": "text"
      },
      "source": [
        "<a href=\"https://colab.research.google.com/github/pawan-nirpal-031/PythonProjects/blob/master/Welcome_to_Colaboratory.ipynb\" target=\"_parent\"><img src=\"https://colab.research.google.com/assets/colab-badge.svg\" alt=\"Open In Colab\"/></a>"
      ]
    },
    {
      "cell_type": "code",
      "metadata": {
        "colab": {
          "base_uri": "https://localhost:8080/"
        },
        "id": "QwX-jplmhukl",
        "outputId": "f3286ba2-283b-4f5c-fdee-7282d902a0ce"
      },
      "source": [
        "import tensorflow as tf\n",
        "print(tf.__version__)"
      ],
      "execution_count": 15,
      "outputs": [
        {
          "output_type": "stream",
          "text": [
            "2.5.0\n"
          ],
          "name": "stdout"
        }
      ]
    },
    {
      "cell_type": "code",
      "metadata": {
        "colab": {
          "base_uri": "https://localhost:8080/"
        },
        "id": "EmUgskWhhxWt",
        "outputId": "1f94f925-527e-46f7-8edf-066a7c1d171e"
      },
      "source": [
        "from google.colab import drive\n",
        "drive.mount('/content/drive')"
      ],
      "execution_count": 12,
      "outputs": [
        {
          "output_type": "stream",
          "text": [
            "Drive already mounted at /content/drive; to attempt to forcibly remount, call drive.mount(\"/content/drive\", force_remount=True).\n"
          ],
          "name": "stdout"
        }
      ]
    },
    {
      "cell_type": "code",
      "metadata": {
        "colab": {
          "base_uri": "https://localhost:8080/",
          "height": 425
        },
        "id": "pvg7wpxqh-dB",
        "outputId": "ac7059e6-0297-481f-9103-80d5db4e8b9b"
      },
      "source": [
        " import pandas as pd\n",
        " \n",
        "ds = pd.read_pickle(r\"/content/drive/MyDrive/CBackup/Cloud File Backup_20210811180656/Dropbox/full_CNN_train-V20210811180657.p\")"
      ],
      "execution_count": 17,
      "outputs": [
        {
          "output_type": "error",
          "ename": "IsADirectoryError",
          "evalue": "ignored",
          "traceback": [
            "\u001b[0;31m---------------------------------------------------------------------------\u001b[0m",
            "\u001b[0;31mIsADirectoryError\u001b[0m                         Traceback (most recent call last)",
            "\u001b[0;32m<ipython-input-17-b1be5371f309>\u001b[0m in \u001b[0;36m<module>\u001b[0;34m()\u001b[0m\n\u001b[1;32m      1\u001b[0m \u001b[0;32mimport\u001b[0m \u001b[0mpandas\u001b[0m \u001b[0;32mas\u001b[0m \u001b[0mpd\u001b[0m\u001b[0;34m\u001b[0m\u001b[0;34m\u001b[0m\u001b[0m\n\u001b[1;32m      2\u001b[0m \u001b[0;34m\u001b[0m\u001b[0m\n\u001b[0;32m----> 3\u001b[0;31m \u001b[0mds\u001b[0m \u001b[0;34m=\u001b[0m \u001b[0mpd\u001b[0m\u001b[0;34m.\u001b[0m\u001b[0mread_pickle\u001b[0m\u001b[0;34m(\u001b[0m\u001b[0;34mr\"/content/drive/MyDrive/CBackup/Cloud File Backup_20210811180656/Dropbox/full_CNN_train-V20210811180657.p\"\u001b[0m\u001b[0;34m)\u001b[0m\u001b[0;34m\u001b[0m\u001b[0;34m\u001b[0m\u001b[0m\n\u001b[0m",
            "\u001b[0;32m/usr/local/lib/python3.7/dist-packages/pandas/io/pickle.py\u001b[0m in \u001b[0;36mread_pickle\u001b[0;34m(filepath_or_buffer, compression)\u001b[0m\n\u001b[1;32m    167\u001b[0m     \u001b[0;32mif\u001b[0m \u001b[0;32mnot\u001b[0m \u001b[0misinstance\u001b[0m\u001b[0;34m(\u001b[0m\u001b[0mfp_or_buf\u001b[0m\u001b[0;34m,\u001b[0m \u001b[0mstr\u001b[0m\u001b[0;34m)\u001b[0m \u001b[0;32mand\u001b[0m \u001b[0mcompression\u001b[0m \u001b[0;34m==\u001b[0m \u001b[0;34m\"infer\"\u001b[0m\u001b[0;34m:\u001b[0m\u001b[0;34m\u001b[0m\u001b[0;34m\u001b[0m\u001b[0m\n\u001b[1;32m    168\u001b[0m         \u001b[0mcompression\u001b[0m \u001b[0;34m=\u001b[0m \u001b[0;32mNone\u001b[0m\u001b[0;34m\u001b[0m\u001b[0;34m\u001b[0m\u001b[0m\n\u001b[0;32m--> 169\u001b[0;31m     \u001b[0mf\u001b[0m\u001b[0;34m,\u001b[0m \u001b[0mfh\u001b[0m \u001b[0;34m=\u001b[0m \u001b[0mget_handle\u001b[0m\u001b[0;34m(\u001b[0m\u001b[0mfp_or_buf\u001b[0m\u001b[0;34m,\u001b[0m \u001b[0;34m\"rb\"\u001b[0m\u001b[0;34m,\u001b[0m \u001b[0mcompression\u001b[0m\u001b[0;34m=\u001b[0m\u001b[0mcompression\u001b[0m\u001b[0;34m,\u001b[0m \u001b[0mis_text\u001b[0m\u001b[0;34m=\u001b[0m\u001b[0;32mFalse\u001b[0m\u001b[0;34m)\u001b[0m\u001b[0;34m\u001b[0m\u001b[0;34m\u001b[0m\u001b[0m\n\u001b[0m\u001b[1;32m    170\u001b[0m \u001b[0;34m\u001b[0m\u001b[0m\n\u001b[1;32m    171\u001b[0m     \u001b[0;31m# 1) try standard library Pickle\u001b[0m\u001b[0;34m\u001b[0m\u001b[0;34m\u001b[0m\u001b[0;34m\u001b[0m\u001b[0m\n",
            "\u001b[0;32m/usr/local/lib/python3.7/dist-packages/pandas/io/common.py\u001b[0m in \u001b[0;36mget_handle\u001b[0;34m(path_or_buf, mode, encoding, compression, memory_map, is_text, errors)\u001b[0m\n\u001b[1;32m    497\u001b[0m         \u001b[0;32melse\u001b[0m\u001b[0;34m:\u001b[0m\u001b[0;34m\u001b[0m\u001b[0;34m\u001b[0m\u001b[0m\n\u001b[1;32m    498\u001b[0m             \u001b[0;31m# Binary mode\u001b[0m\u001b[0;34m\u001b[0m\u001b[0;34m\u001b[0m\u001b[0;34m\u001b[0m\u001b[0m\n\u001b[0;32m--> 499\u001b[0;31m             \u001b[0mf\u001b[0m \u001b[0;34m=\u001b[0m \u001b[0mopen\u001b[0m\u001b[0;34m(\u001b[0m\u001b[0mpath_or_buf\u001b[0m\u001b[0;34m,\u001b[0m \u001b[0mmode\u001b[0m\u001b[0;34m)\u001b[0m\u001b[0;34m\u001b[0m\u001b[0;34m\u001b[0m\u001b[0m\n\u001b[0m\u001b[1;32m    500\u001b[0m         \u001b[0mhandles\u001b[0m\u001b[0;34m.\u001b[0m\u001b[0mappend\u001b[0m\u001b[0;34m(\u001b[0m\u001b[0mf\u001b[0m\u001b[0;34m)\u001b[0m\u001b[0;34m\u001b[0m\u001b[0;34m\u001b[0m\u001b[0m\n\u001b[1;32m    501\u001b[0m \u001b[0;34m\u001b[0m\u001b[0m\n",
            "\u001b[0;31mIsADirectoryError\u001b[0m: [Errno 21] Is a directory: '/content/drive/MyDrive/CBackup/Cloud File Backup_20210811180656/Dropbox/full_CNN_train-V20210811180657.p'"
          ]
        }
      ]
    },
    {
      "cell_type": "code",
      "metadata": {
        "colab": {
          "base_uri": "https://localhost:8080/"
        },
        "id": "sbYlTtcspBdH",
        "outputId": "9bc5bb3d-fb51-4b67-d016-be245ddf6415"
      },
      "source": [
        " \n",
        "import os\n",
        "os.listdir()"
      ],
      "execution_count": 19,
      "outputs": [
        {
          "output_type": "execute_result",
          "data": {
            "text/plain": [
              "['.config', 'drive', 'sample_data']"
            ]
          },
          "metadata": {
            "tags": []
          },
          "execution_count": 19
        }
      ]
    },
    {
      "cell_type": "code",
      "metadata": {
        "colab": {
          "base_uri": "https://localhost:8080/"
        },
        "id": "zyddLhKkps0u",
        "outputId": "d177d5b7-153e-421b-c4c8-d9fa9b4ad32c"
      },
      "source": [
        " \n",
        "in_dir = \"/content/drive/MyDrive/CBackup/Cloud File Backup_20210811180656/Dropbox/full_CNN_train-V20210811180657.p\"\n",
        "data_paths = [i for i in (os.path.join(in_dir, f) for f in os.listdir(in_dir)) if os.path.isfile(i)]\n",
        " \n",
        "for p in data_paths: \n",
        "  print (p)"
      ],
      "execution_count": 27,
      "outputs": [
        {
          "output_type": "stream",
          "text": [
            "/content/drive/MyDrive/CBackup/Cloud File Backup_20210811180656/Dropbox/full_CNN_train-V20210811180657.p/full_CNN_train-V202108111806571.p\n",
            "/content/drive/MyDrive/CBackup/Cloud File Backup_20210811180656/Dropbox/full_CNN_train-V20210811180657.p/full_CNN_train-V202108111806572.p\n",
            "/content/drive/MyDrive/CBackup/Cloud File Backup_20210811180656/Dropbox/full_CNN_train-V20210811180657.p/full_CNN_train-V202108111806573.p\n",
            "/content/drive/MyDrive/CBackup/Cloud File Backup_20210811180656/Dropbox/full_CNN_train-V20210811180657.p/full_CNN_train-V202108111806574.p\n",
            "/content/drive/MyDrive/CBackup/Cloud File Backup_20210811180656/Dropbox/full_CNN_train-V20210811180657.p/full_CNN_train-V202108111806575.p\n",
            "/content/drive/MyDrive/CBackup/Cloud File Backup_20210811180656/Dropbox/full_CNN_train-V20210811180657.p/full_CNN_train-V202108111806576.p\n",
            "/content/drive/MyDrive/CBackup/Cloud File Backup_20210811180656/Dropbox/full_CNN_train-V20210811180657.p/full_CNN_train-V202108111806577.p\n",
            "/content/drive/MyDrive/CBackup/Cloud File Backup_20210811180656/Dropbox/full_CNN_train-V20210811180657.p/full_CNN_train-V202108111806578.p\n",
            "/content/drive/MyDrive/CBackup/Cloud File Backup_20210811180656/Dropbox/full_CNN_train-V20210811180657.p/full_CNN_train-V202108111806579.p\n",
            "/content/drive/MyDrive/CBackup/Cloud File Backup_20210811180656/Dropbox/full_CNN_train-V20210811180657.p/full_CNN_train-V2021081118065710.p\n",
            "/content/drive/MyDrive/CBackup/Cloud File Backup_20210811180656/Dropbox/full_CNN_train-V20210811180657.p/full_CNN_train-V2021081118065711.p\n",
            "/content/drive/MyDrive/CBackup/Cloud File Backup_20210811180656/Dropbox/full_CNN_train-V20210811180657.p/full_CNN_train-V2021081118065712.p\n",
            "/content/drive/MyDrive/CBackup/Cloud File Backup_20210811180656/Dropbox/full_CNN_train-V20210811180657.p/full_CNN_train-V2021081118065713.p\n",
            "/content/drive/MyDrive/CBackup/Cloud File Backup_20210811180656/Dropbox/full_CNN_train-V20210811180657.p/full_CNN_train-V2021081118065714.p\n",
            "/content/drive/MyDrive/CBackup/Cloud File Backup_20210811180656/Dropbox/full_CNN_train-V20210811180657.p/full_CNN_train-V2021081118065715.p\n"
          ],
          "name": "stdout"
        }
      ]
    }
  ]
}